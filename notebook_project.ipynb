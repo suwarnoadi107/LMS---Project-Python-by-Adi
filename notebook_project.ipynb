{
 "cells": [
  {
   "cell_type": "code",
   "execution_count": 1,
   "metadata": {},
   "outputs": [],
   "source": [
    "import datetime\n",
    "import pandas as pds\n",
    "from transaksi_modul import *\n",
    "from update_item_list_modul import *\n",
    "from cek_transaksi_modul import *\n",
    "from update_item_dataframe_modul import *"
   ]
  },
  {
   "cell_type": "code",
   "execution_count": 2,
   "metadata": {},
   "outputs": [
    {
     "name": "stdout",
     "output_type": "stream",
     "text": [
      "Silakan pilih nomor transaksi Anda.\n",
      "Berikut nomor transaksi Anda: 96844.\n",
      "Silakan buat transaksi dengan format transaksi_96844.\n"
     ]
    }
   ],
   "source": [
    "# Buat Transaksi\n",
    "step = 0\n",
    "while step >= 0:\n",
    "    try:\n",
    "        # Proses untuk memutuskan buat transaksi baru atau transaksi sebelumnya\n",
    "        awal = input(\"Apakah Anda sudah buat transaksi sebelumnya? Ya / Tidak:\")\n",
    "        \n",
    "        if awal.title() not in ('Ya', 'Tidak'):\n",
    "            pass\n",
    "        else:\n",
    "            break\n",
    "\n",
    "    except TypeError:\n",
    "        print(\"Input yang Anda masukkan salah, silakan melakukan input ulang.\")\n",
    "    step += 1\n",
    "\n",
    "buat_transaksi(awal)\n",
    "\n",
    "# Ambil Nomor Transaksi\n",
    "''' \n",
    "Jika menjawab \"tidak\", maka akan ditentukan nomor transaksi secara acak.\n",
    "'''\n",
    "nomorku = pilih_nomor(awal)\n",
    "\n",
    "# Simpan transaksimu dalam variabel transaksiku\n",
    "transaksiku = transaction()"
   ]
  },
  {
   "cell_type": "code",
   "execution_count": 4,
   "metadata": {},
   "outputs": [
    {
     "data": {
      "text/plain": [
       "[['ayam goreng', 'mouse', 'es teh', 'tempat makan', 'nasi'],\n",
       " [2, 1, 2, 1, 2],\n",
       " [8000.0, 43000.0, 3000.0, 72000.0, 2000.0]]"
      ]
     },
     "execution_count": 4,
     "metadata": {},
     "output_type": "execute_result"
    }
   ],
   "source": [
    "# Tambah Item Belanja\n",
    "step_ = 0\n",
    "while step_ >= 0:\n",
    "    try:\n",
    "        # Proses untuk memutuskan buat transaksi baru atau transaksi sebelumnya\n",
    "        tambah_transaksi = input(\"Apakah Anda ingin menambahkan item? Ya / Tidak:\")\n",
    "        \n",
    "        if tambah_transaksi.title() not in ('Ya', 'Tidak'):\n",
    "            pass\n",
    "        else:\n",
    "            break\n",
    "\n",
    "    except TypeError:\n",
    "        print(\"Input yang Anda masukkan salah, silakan melakukan input ulang.\")\n",
    "    step_ += 1\n",
    "        \n",
    "add_item(tambah_transaksi,transaksiku)\n",
    "transaksiku"
   ]
  },
  {
   "cell_type": "code",
   "execution_count": 5,
   "metadata": {},
   "outputs": [
    {
     "data": {
      "text/plain": [
       "[['ayam goreng', 'es teh', 'tempat makan', 'nasi'],\n",
       " [2, 2, 1, 2],\n",
       " [8000.0, 3000.0, 72000.0, 2000.0]]"
      ]
     },
     "execution_count": 5,
     "metadata": {},
     "output_type": "execute_result"
    }
   ],
   "source": [
    "delete_item('mouse', transaksiku)\n",
    "transaksiku"
   ]
  },
  {
   "cell_type": "code",
   "execution_count": 6,
   "metadata": {},
   "outputs": [
    {
     "data": {
      "text/plain": [
       "[]"
      ]
     },
     "execution_count": 6,
     "metadata": {},
     "output_type": "execute_result"
    }
   ],
   "source": [
    "reset_transaksi(transaksiku)\n",
    "transaksiku"
   ]
  },
  {
   "cell_type": "code",
   "execution_count": 9,
   "metadata": {},
   "outputs": [
    {
     "data": {
      "text/plain": [
       "[['susu'], [1], [12000.0]]"
      ]
     },
     "execution_count": 9,
     "metadata": {},
     "output_type": "execute_result"
    }
   ],
   "source": [
    "# buat transaksi lagi\n",
    "transaksiku = transaction()\n",
    "\n",
    "# Input item lagi\n",
    "add_item(tambah_transaksi,transaksiku)\n",
    "transaksiku"
   ]
  },
  {
   "cell_type": "code",
   "execution_count": null,
   "metadata": {},
   "outputs": [],
   "source": [
    "# Koreksi Awal: Memperbarui Daftar Belanja dalam List\n",
    "step = 0\n",
    "while step >= 0:\n",
    "    try:\n",
    "        koreksiawal = input(\"Apakah mau dikoreksi dahulu? (Jawab 'Tidak' atau 'Ya' jika ingin mengoreksi):\")\n",
    "        \n",
    "        if koreksiawal.title() not in ('Ya', 'Tidak'):\n",
    "            pass\n",
    "        \n",
    "        else:\n",
    "            break\n",
    "    \n",
    "    except:\n",
    "        print(\"Input yang Anda masukkan salah, silakan melakukan input ulang.\")\n",
    "    step += 1\n",
    "\n",
    "koreksi_awal(koreksiawal, transaksiku)"
   ]
  },
  {
   "cell_type": "code",
   "execution_count": null,
   "metadata": {},
   "outputs": [],
   "source": [
    "# Check Kesesuaian List\n",
    "check_list(transaksiku)\n",
    "\n",
    "# Lakukan Pengecekan Awal Dahulu\n",
    "check_item_sementara(transaksiku)"
   ]
  },
  {
   "cell_type": "code",
   "execution_count": null,
   "metadata": {},
   "outputs": [],
   "source": [
    "# CHECK ITEM DAN MENGUBAH KE DALAM DATA FRAME\n",
    "def check_item(transaksiku):\n",
    "    '''\n",
    "    Fungsi untum mengembalikan daftar transaksi yang sudah benar.\n",
    "\n",
    "    Parameter:\n",
    "        - transaksiku (list): list daftar belanja yang ingin dicek. \n",
    "    \n",
    "    Output:\n",
    "        - df (DataFrame): dataframe daftar belanja belanja.\n",
    "    '''\n",
    "    pra_df = {\n",
    "        \"nama_produk\":transaksiku[0],\n",
    "        \"jumlah\":transaksiku[1],\n",
    "        \"harga_per_item\":transaksiku[2]\n",
    "    }\n",
    "\n",
    "    df = pds.DataFrame(pra_df)\n",
    "\n",
    "    df['harga_total'] = df['jumlah']*df['harga_per_item']\n",
    "    df.head()\n",
    "    return df\n"
   ]
  },
  {
   "cell_type": "code",
   "execution_count": null,
   "metadata": {},
   "outputs": [],
   "source": [
    "# Simpan Hasil Cek Item dalam variabel my_transaksi\n",
    "my_transaksi = check_item(transaksiku)\n",
    "print(my_transaksi)"
   ]
  },
  {
   "cell_type": "code",
   "execution_count": null,
   "metadata": {},
   "outputs": [],
   "source": [
    "# Fungsi Pembayaran\n",
    "def pembayaran(my_transaksi):\n",
    "    '''\n",
    "    Fungsi menghitung tagihan akhir di kasir.\n",
    "\n",
    "    Parameter:\n",
    "        - my_transaksi (DataFrame): berisi daftar belanja.\n",
    "\n",
    "    Output:\n",
    "        - Informasi total pembayaran dan diskon yang diperoleh (S&K Berlaku).\n",
    "    '''\n",
    "    today = datetime.datetime.now()\n",
    "    today_print = today.strftime(\"%c\")\n",
    "    total = total_price(my_transaksi)\n",
    "    \n",
    "    if total > 500_000:\n",
    "        diskon = 10/100\n",
    "        dibayar = total - total*diskon\n",
    "        \n",
    "        print(f\"{today_print}\\nKode Transaksi: {nomorku}\\nBerikut daftar belanja Anda:\\n{my_transaksi}\")\n",
    "        print(\"Total belanja Anda di atas Rp500.000 sehingga Anda akan mendapatkan diskon 10%.\")\n",
    "        print(f\"Tagihan akhir untuk transaksi Anda hari ini sebesar Rp{dibayar}\")\n",
    "    \n",
    "    elif total > 300_000:\n",
    "        diskon = 8/100\n",
    "        dibayar = total - total*diskon\n",
    "        \n",
    "        print(f\"{today_print}\\nKode Transaksi: {nomorku}\\nBerikut daftar belanja Anda:\\n{my_transaksi}\")\n",
    "        print(\"Total belanja Anda di atas Rp300.000 sehingga Anda akan mendapatkan diskon 8%.\")\n",
    "        print(f\"Tagihan akhir untuk transaksi Anda hari ini sebesar Rp{dibayar}\")\n",
    "    \n",
    "    elif total > 200_000:\n",
    "        diskon = 5/100\n",
    "        dibayar = total - total*diskon\n",
    "        \n",
    "        print(f\"{today_print}\\nKode Transaksi: {nomorku}\\nBerikut daftar belanja Anda:\\n{my_transaksi}\")\n",
    "        print(\"Total belanja Anda di atas Rp200.000 sehingga Anda akan mendapatkan diskon 5%.\")\n",
    "        print(f\"Tagihan akhir untuk transaksi Anda hari ini sebesar Rp{dibayar}\")\n",
    "    \n",
    "    else:\n",
    "        print(f\"{today_print}\\nKode Transaksi: {nomorku}\\nBerikut daftar belanja Anda:\\n{my_transaksi}\")\n",
    "        print(f\"Transaksi belanja Anda hari ini sebesar Rp{total}\")\n"
   ]
  },
  {
   "cell_type": "code",
   "execution_count": null,
   "metadata": {},
   "outputs": [],
   "source": [
    "# Memastikan Ulang Sebelum Pembayaran\n",
    "alur = 0\n",
    "while alur >= 0:\n",
    "    try:\n",
    "        jawaban = input(\"Apakah sudah benar? (Jawab 'ya' atau 'tidak' jika ingin mengoreksi):\")\n",
    "        \n",
    "        if jawaban.title() not in ('Ya', 'Tidak'):\n",
    "            pass\n",
    "        \n",
    "        else:\n",
    "            break\n",
    "    \n",
    "    except:\n",
    "        print(\"Input yang Anda masukkan salah, silakan melakukan input ulang.\")\n",
    "    alur += 1\n",
    "\n",
    "lanjut_transaksi(jawaban, my_transaksi)"
   ]
  },
  {
   "cell_type": "code",
   "execution_count": null,
   "metadata": {},
   "outputs": [],
   "source": [
    "# Pembayaran\n",
    "pembayaran(my_transaksi)"
   ]
  }
 ],
 "metadata": {
  "kernelspec": {
   "display_name": "Python 3",
   "language": "python",
   "name": "python3"
  },
  "language_info": {
   "codemirror_mode": {
    "name": "ipython",
    "version": 3
   },
   "file_extension": ".py",
   "mimetype": "text/x-python",
   "name": "python",
   "nbconvert_exporter": "python",
   "pygments_lexer": "ipython3",
   "version": "3.10.9"
  },
  "orig_nbformat": 4,
  "vscode": {
   "interpreter": {
    "hash": "9deea79bfd8769c20cdb41e577c31349975f53057f7c4a88718c49dab3f025eb"
   }
  }
 },
 "nbformat": 4,
 "nbformat_minor": 2
}
